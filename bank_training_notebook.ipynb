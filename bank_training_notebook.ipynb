{
 "cells": [
  {
   "cell_type": "markdown",
   "metadata": {},
   "source": [
    "# ライブラリの読み込み"
   ]
  },
  {
   "cell_type": "code",
   "execution_count": 1,
   "metadata": {},
   "outputs": [],
   "source": [
    "# 警告を消す\n",
    "import warnings\n",
    "warnings.simplefilter('ignore')\n",
    "\n",
    "import pandas as pd\n",
    "import numpy as np\n",
    "\n",
    "import seaborn as sns\n",
    "import matplotlib.pyplot as plt\n",
    "%matplotlib inline\n",
    "plt.style.use('ggplot')\n",
    "\n",
    "from sklearn.preprocessing import LabelEncoder\n",
    "\n",
    "from sklearn.model_selection import StratifiedKFold\n",
    "from sklearn.model_selection import train_test_split\n",
    "from sklearn import metrics\n",
    "import optuna\n",
    "import lightgbm as lgb"
   ]
  },
  {
   "cell_type": "markdown",
   "metadata": {},
   "source": [
    "# データセット"
   ]
  },
  {
   "cell_type": "code",
   "execution_count": 2,
   "metadata": {},
   "outputs": [],
   "source": [
    "submit = pd.read_csv('submit_sample.csv',header=None)\n",
    "test = pd.read_csv('test.csv')\n",
    "train = pd.read_csv('train.csv')"
   ]
  },
  {
   "cell_type": "markdown",
   "metadata": {},
   "source": [
    "# データの確認"
   ]
  },
  {
   "cell_type": "code",
   "execution_count": 3,
   "metadata": {},
   "outputs": [
    {
     "data": {
      "text/html": [
       "<div>\n",
       "<style scoped>\n",
       "    .dataframe tbody tr th:only-of-type {\n",
       "        vertical-align: middle;\n",
       "    }\n",
       "\n",
       "    .dataframe tbody tr th {\n",
       "        vertical-align: top;\n",
       "    }\n",
       "\n",
       "    .dataframe thead th {\n",
       "        text-align: right;\n",
       "    }\n",
       "</style>\n",
       "<table border=\"1\" class=\"dataframe\">\n",
       "  <thead>\n",
       "    <tr style=\"text-align: right;\">\n",
       "      <th></th>\n",
       "      <th>id</th>\n",
       "      <th>age</th>\n",
       "      <th>job</th>\n",
       "      <th>marital</th>\n",
       "      <th>education</th>\n",
       "      <th>default</th>\n",
       "      <th>balance</th>\n",
       "      <th>housing</th>\n",
       "      <th>loan</th>\n",
       "      <th>contact</th>\n",
       "      <th>day</th>\n",
       "      <th>month</th>\n",
       "      <th>duration</th>\n",
       "      <th>campaign</th>\n",
       "      <th>pdays</th>\n",
       "      <th>previous</th>\n",
       "      <th>poutcome</th>\n",
       "      <th>y</th>\n",
       "    </tr>\n",
       "  </thead>\n",
       "  <tbody>\n",
       "    <tr>\n",
       "      <th>0</th>\n",
       "      <td>0</td>\n",
       "      <td>31</td>\n",
       "      <td>services</td>\n",
       "      <td>married</td>\n",
       "      <td>secondary</td>\n",
       "      <td>no</td>\n",
       "      <td>12294</td>\n",
       "      <td>yes</td>\n",
       "      <td>no</td>\n",
       "      <td>cellular</td>\n",
       "      <td>21</td>\n",
       "      <td>nov</td>\n",
       "      <td>101</td>\n",
       "      <td>3</td>\n",
       "      <td>498</td>\n",
       "      <td>0</td>\n",
       "      <td>other</td>\n",
       "      <td>0</td>\n",
       "    </tr>\n",
       "    <tr>\n",
       "      <th>1</th>\n",
       "      <td>1</td>\n",
       "      <td>29</td>\n",
       "      <td>entrepreneur</td>\n",
       "      <td>single</td>\n",
       "      <td>tertiary</td>\n",
       "      <td>no</td>\n",
       "      <td>43027</td>\n",
       "      <td>no</td>\n",
       "      <td>no</td>\n",
       "      <td>cellular</td>\n",
       "      <td>22</td>\n",
       "      <td>aug</td>\n",
       "      <td>158</td>\n",
       "      <td>2</td>\n",
       "      <td>702</td>\n",
       "      <td>0</td>\n",
       "      <td>unknown</td>\n",
       "      <td>1</td>\n",
       "    </tr>\n",
       "    <tr>\n",
       "      <th>2</th>\n",
       "      <td>2</td>\n",
       "      <td>35</td>\n",
       "      <td>management</td>\n",
       "      <td>married</td>\n",
       "      <td>tertiary</td>\n",
       "      <td>no</td>\n",
       "      <td>12252</td>\n",
       "      <td>yes</td>\n",
       "      <td>no</td>\n",
       "      <td>cellular</td>\n",
       "      <td>11</td>\n",
       "      <td>nov</td>\n",
       "      <td>351</td>\n",
       "      <td>1</td>\n",
       "      <td>826</td>\n",
       "      <td>0</td>\n",
       "      <td>failure</td>\n",
       "      <td>0</td>\n",
       "    </tr>\n",
       "    <tr>\n",
       "      <th>3</th>\n",
       "      <td>3</td>\n",
       "      <td>31</td>\n",
       "      <td>technician</td>\n",
       "      <td>married</td>\n",
       "      <td>secondary</td>\n",
       "      <td>no</td>\n",
       "      <td>99121</td>\n",
       "      <td>yes</td>\n",
       "      <td>yes</td>\n",
       "      <td>unknown</td>\n",
       "      <td>16</td>\n",
       "      <td>may</td>\n",
       "      <td>658</td>\n",
       "      <td>2</td>\n",
       "      <td>120</td>\n",
       "      <td>0</td>\n",
       "      <td>failure</td>\n",
       "      <td>0</td>\n",
       "    </tr>\n",
       "    <tr>\n",
       "      <th>4</th>\n",
       "      <td>4</td>\n",
       "      <td>48</td>\n",
       "      <td>unemployed</td>\n",
       "      <td>married</td>\n",
       "      <td>primary</td>\n",
       "      <td>no</td>\n",
       "      <td>42005</td>\n",
       "      <td>yes</td>\n",
       "      <td>no</td>\n",
       "      <td>telephone</td>\n",
       "      <td>3</td>\n",
       "      <td>apr</td>\n",
       "      <td>177</td>\n",
       "      <td>1</td>\n",
       "      <td>273</td>\n",
       "      <td>0</td>\n",
       "      <td>unknown</td>\n",
       "      <td>0</td>\n",
       "    </tr>\n",
       "  </tbody>\n",
       "</table>\n",
       "</div>"
      ],
      "text/plain": [
       "   id  age           job  marital  education default  balance housing loan  \\\n",
       "0   0   31      services  married  secondary      no    12294     yes   no   \n",
       "1   1   29  entrepreneur   single   tertiary      no    43027      no   no   \n",
       "2   2   35    management  married   tertiary      no    12252     yes   no   \n",
       "3   3   31    technician  married  secondary      no    99121     yes  yes   \n",
       "4   4   48    unemployed  married    primary      no    42005     yes   no   \n",
       "\n",
       "     contact  day month  duration  campaign  pdays  previous poutcome  y  \n",
       "0   cellular   21   nov       101         3    498         0    other  0  \n",
       "1   cellular   22   aug       158         2    702         0  unknown  1  \n",
       "2   cellular   11   nov       351         1    826         0  failure  0  \n",
       "3    unknown   16   may       658         2    120         0  failure  0  \n",
       "4  telephone    3   apr       177         1    273         0  unknown  0  "
      ]
     },
     "execution_count": 3,
     "metadata": {},
     "output_type": "execute_result"
    }
   ],
   "source": [
    "train.head()"
   ]
  },
  {
   "cell_type": "code",
   "execution_count": 4,
   "metadata": {},
   "outputs": [
    {
     "data": {
      "text/plain": [
       "id           0\n",
       "age          0\n",
       "job          0\n",
       "marital      0\n",
       "education    0\n",
       "default      0\n",
       "balance      0\n",
       "housing      0\n",
       "loan         0\n",
       "contact      0\n",
       "day          0\n",
       "month        0\n",
       "duration     0\n",
       "campaign     0\n",
       "pdays        0\n",
       "previous     0\n",
       "poutcome     0\n",
       "y            0\n",
       "dtype: int64"
      ]
     },
     "execution_count": 4,
     "metadata": {},
     "output_type": "execute_result"
    }
   ],
   "source": [
    "# 欠損値の確認\n",
    "train.isnull().sum()"
   ]
  },
  {
   "cell_type": "code",
   "execution_count": 5,
   "metadata": {},
   "outputs": [
    {
     "data": {
      "text/plain": [
       "id           27100\n",
       "age             42\n",
       "job             11\n",
       "marital          3\n",
       "education        4\n",
       "default          2\n",
       "balance      23967\n",
       "housing          2\n",
       "loan             2\n",
       "contact          3\n",
       "day             30\n",
       "month           11\n",
       "duration       140\n",
       "campaign         5\n",
       "pdays          872\n",
       "previous         4\n",
       "poutcome         4\n",
       "y                2\n",
       "dtype: int64"
      ]
     },
     "execution_count": 5,
     "metadata": {},
     "output_type": "execute_result"
    }
   ],
   "source": [
    "# カテゴリー数の確認\n",
    "train.nunique()"
   ]
  },
  {
   "cell_type": "code",
   "execution_count": 6,
   "metadata": {},
   "outputs": [
    {
     "data": {
      "text/plain": [
       "unknown    23099\n",
       "failure     2717\n",
       "other        826\n",
       "success      458\n",
       "Name: poutcome, dtype: int64"
      ]
     },
     "execution_count": 6,
     "metadata": {},
     "output_type": "execute_result"
    }
   ],
   "source": [
    "# 特定のカテゴリーにどのくらい値があるのかを確認する。\n",
    "train['poutcome'].value_counts()"
   ]
  },
  {
   "cell_type": "markdown",
   "metadata": {},
   "source": [
    "# データの結合　処理"
   ]
  },
  {
   "cell_type": "code",
   "execution_count": 7,
   "metadata": {},
   "outputs": [],
   "source": [
    "# データの結合（trainとtestデータそれぞれに前処理をかけるため結合しておく。）\n",
    "data = pd.concat([train, test], sort = False)"
   ]
  },
  {
   "cell_type": "code",
   "execution_count": 8,
   "metadata": {},
   "outputs": [],
   "source": [
    "# それぞれlightgbmで扱えるようにカテゴリを数値に変換しておく\n",
    "# 数の少ない変換は以下のように直接変換を行うこともできる。\n",
    "data['month'].replace(['jan','feb','mar','apr','may','jun','jul','aug','sep','oct','nov','dec'], [1,2,3,4,5,6,7,8,9,10,11,12], inplace=True)\n",
    "data['housing'].replace(['yes','no'], [1, 0], inplace= True)\n",
    "data['loan'].replace(['yes','no'], [1, 0], inplace= True)\n",
    "data['default'].replace(['yes','no'], [1, 0], inplace= True)"
   ]
  },
  {
   "cell_type": "code",
   "execution_count": 9,
   "metadata": {},
   "outputs": [
    {
     "data": {
      "text/html": [
       "<div>\n",
       "<style scoped>\n",
       "    .dataframe tbody tr th:only-of-type {\n",
       "        vertical-align: middle;\n",
       "    }\n",
       "\n",
       "    .dataframe tbody tr th {\n",
       "        vertical-align: top;\n",
       "    }\n",
       "\n",
       "    .dataframe thead th {\n",
       "        text-align: right;\n",
       "    }\n",
       "</style>\n",
       "<table border=\"1\" class=\"dataframe\">\n",
       "  <thead>\n",
       "    <tr style=\"text-align: right;\">\n",
       "      <th></th>\n",
       "      <th>id</th>\n",
       "      <th>age</th>\n",
       "      <th>job</th>\n",
       "      <th>marital</th>\n",
       "      <th>education</th>\n",
       "      <th>default</th>\n",
       "      <th>balance</th>\n",
       "      <th>housing</th>\n",
       "      <th>loan</th>\n",
       "      <th>contact</th>\n",
       "      <th>day</th>\n",
       "      <th>month</th>\n",
       "      <th>duration</th>\n",
       "      <th>campaign</th>\n",
       "      <th>pdays</th>\n",
       "      <th>previous</th>\n",
       "      <th>poutcome</th>\n",
       "      <th>y</th>\n",
       "    </tr>\n",
       "  </thead>\n",
       "  <tbody>\n",
       "    <tr>\n",
       "      <th>0</th>\n",
       "      <td>0</td>\n",
       "      <td>31</td>\n",
       "      <td>7</td>\n",
       "      <td>1</td>\n",
       "      <td>1</td>\n",
       "      <td>0</td>\n",
       "      <td>12294</td>\n",
       "      <td>1</td>\n",
       "      <td>0</td>\n",
       "      <td>0</td>\n",
       "      <td>21</td>\n",
       "      <td>11</td>\n",
       "      <td>101</td>\n",
       "      <td>3</td>\n",
       "      <td>498</td>\n",
       "      <td>0</td>\n",
       "      <td>1</td>\n",
       "      <td>0.0</td>\n",
       "    </tr>\n",
       "    <tr>\n",
       "      <th>1</th>\n",
       "      <td>1</td>\n",
       "      <td>29</td>\n",
       "      <td>2</td>\n",
       "      <td>2</td>\n",
       "      <td>2</td>\n",
       "      <td>0</td>\n",
       "      <td>43027</td>\n",
       "      <td>0</td>\n",
       "      <td>0</td>\n",
       "      <td>0</td>\n",
       "      <td>22</td>\n",
       "      <td>8</td>\n",
       "      <td>158</td>\n",
       "      <td>2</td>\n",
       "      <td>702</td>\n",
       "      <td>0</td>\n",
       "      <td>3</td>\n",
       "      <td>1.0</td>\n",
       "    </tr>\n",
       "    <tr>\n",
       "      <th>2</th>\n",
       "      <td>2</td>\n",
       "      <td>35</td>\n",
       "      <td>4</td>\n",
       "      <td>1</td>\n",
       "      <td>2</td>\n",
       "      <td>0</td>\n",
       "      <td>12252</td>\n",
       "      <td>1</td>\n",
       "      <td>0</td>\n",
       "      <td>0</td>\n",
       "      <td>11</td>\n",
       "      <td>11</td>\n",
       "      <td>351</td>\n",
       "      <td>1</td>\n",
       "      <td>826</td>\n",
       "      <td>0</td>\n",
       "      <td>0</td>\n",
       "      <td>0.0</td>\n",
       "    </tr>\n",
       "    <tr>\n",
       "      <th>3</th>\n",
       "      <td>3</td>\n",
       "      <td>31</td>\n",
       "      <td>9</td>\n",
       "      <td>1</td>\n",
       "      <td>1</td>\n",
       "      <td>0</td>\n",
       "      <td>99121</td>\n",
       "      <td>1</td>\n",
       "      <td>1</td>\n",
       "      <td>2</td>\n",
       "      <td>16</td>\n",
       "      <td>5</td>\n",
       "      <td>658</td>\n",
       "      <td>2</td>\n",
       "      <td>120</td>\n",
       "      <td>0</td>\n",
       "      <td>0</td>\n",
       "      <td>0.0</td>\n",
       "    </tr>\n",
       "    <tr>\n",
       "      <th>4</th>\n",
       "      <td>4</td>\n",
       "      <td>48</td>\n",
       "      <td>10</td>\n",
       "      <td>1</td>\n",
       "      <td>0</td>\n",
       "      <td>0</td>\n",
       "      <td>42005</td>\n",
       "      <td>1</td>\n",
       "      <td>0</td>\n",
       "      <td>1</td>\n",
       "      <td>3</td>\n",
       "      <td>4</td>\n",
       "      <td>177</td>\n",
       "      <td>1</td>\n",
       "      <td>273</td>\n",
       "      <td>0</td>\n",
       "      <td>3</td>\n",
       "      <td>0.0</td>\n",
       "    </tr>\n",
       "  </tbody>\n",
       "</table>\n",
       "</div>"
      ],
      "text/plain": [
       "   id  age  job  marital  education  default  balance  housing  loan  contact  \\\n",
       "0   0   31    7        1          1        0    12294        1     0        0   \n",
       "1   1   29    2        2          2        0    43027        0     0        0   \n",
       "2   2   35    4        1          2        0    12252        1     0        0   \n",
       "3   3   31    9        1          1        0    99121        1     1        2   \n",
       "4   4   48   10        1          0        0    42005        1     0        1   \n",
       "\n",
       "   day  month  duration  campaign  pdays  previous  poutcome    y  \n",
       "0   21     11       101         3    498         0         1  0.0  \n",
       "1   22      8       158         2    702         0         3  1.0  \n",
       "2   11     11       351         1    826         0         0  0.0  \n",
       "3   16      5       658         2    120         0         0  0.0  \n",
       "4    3      4       177         1    273         0         3  0.0  "
      ]
     },
     "execution_count": 9,
     "metadata": {},
     "output_type": "execute_result"
    }
   ],
   "source": [
    "# LabelEncoderによるLable化\n",
    "# 機械学習モデルで扱うために文字列を数値型に変換していく。\n",
    "cat_features = ['job','marital', 'education', 'contact', 'poutcome']\n",
    "for col in cat_features:\n",
    "    lbl = LabelEncoder()\n",
    "    data[col] = lbl.fit_transform(data[col].values)\n",
    "    \n",
    "data.head()"
   ]
  },
  {
   "cell_type": "markdown",
   "metadata": {},
   "source": [
    "# 機械学習モデルに渡すためのデータを用意する。"
   ]
  },
  {
   "cell_type": "code",
   "execution_count": 10,
   "metadata": {},
   "outputs": [],
   "source": [
    "train = data[:len(train)]\n",
    "test = data[len(train):]"
   ]
  },
  {
   "cell_type": "code",
   "execution_count": 11,
   "metadata": {},
   "outputs": [],
   "source": [
    "y_train = train['y']\n",
    "X_train = train.drop(['y','id','pdays'], axis=1)\n",
    "X_test = test.drop(['y','id','pdays'], axis=1)"
   ]
  },
  {
   "cell_type": "code",
   "execution_count": 12,
   "metadata": {},
   "outputs": [],
   "source": [
    "# カテゴリー変数の宣言\n",
    "categorical_features = ['job', 'marital', 'education','housing','loan','contact','month','poutcome']"
   ]
  },
  {
   "cell_type": "markdown",
   "metadata": {},
   "source": [
    "# パラメーターチューニング"
   ]
  },
  {
   "cell_type": "code",
   "execution_count": 13,
   "metadata": {},
   "outputs": [
    {
     "name": "stderr",
     "output_type": "stream",
     "text": [
      "feature_fraction, val_score: -inf:   0%|          | 0/7 [00:00<?, ?it/s]"
     ]
    },
    {
     "name": "stdout",
     "output_type": "stream",
     "text": [
      "Training until validation scores don't improve for 5 rounds\n",
      "Early stopping, best iteration is:\n",
      "[1]\tvalid_0's auc: 1\n"
     ]
    },
    {
     "name": "stderr",
     "output_type": "stream",
     "text": [
      "feature_fraction, val_score: 1.000000:  14%|#4        | 1/7 [00:00<00:01,  5.59it/s][I 2020-08-15 19:40:31,458] Trial 0 finished with value: 1.0 and parameters: {'feature_fraction': 1.0}. Best is trial 0 with value: 1.0.\n",
      "feature_fraction, val_score: 1.000000:  14%|#4        | 1/7 [00:00<00:01,  5.59it/s]"
     ]
    },
    {
     "name": "stdout",
     "output_type": "stream",
     "text": [
      "Training until validation scores don't improve for 5 rounds\n",
      "Early stopping, best iteration is:\n",
      "[1]\tvalid_0's auc: 1\n"
     ]
    },
    {
     "name": "stderr",
     "output_type": "stream",
     "text": [
      "feature_fraction, val_score: 1.000000:  14%|#4        | 1/7 [00:00<00:01,  5.59it/s][I 2020-08-15 19:40:31,526] Trial 1 finished with value: 1.0 and parameters: {'feature_fraction': 0.4}. Best is trial 0 with value: 1.0.\n",
      "feature_fraction, val_score: 1.000000:  29%|##8       | 2/7 [00:00<00:00,  5.59it/s]"
     ]
    },
    {
     "name": "stdout",
     "output_type": "stream",
     "text": [
      "Training until validation scores don't improve for 5 rounds\n",
      "Early stopping, best iteration is:\n",
      "[1]\tvalid_0's auc: 1\n"
     ]
    },
    {
     "name": "stderr",
     "output_type": "stream",
     "text": [
      "feature_fraction, val_score: 1.000000:  43%|####2     | 3/7 [00:00<00:00,  6.87it/s][I 2020-08-15 19:40:31,593] Trial 2 finished with value: 1.0 and parameters: {'feature_fraction': 0.8}. Best is trial 0 with value: 1.0.\n",
      "feature_fraction, val_score: 1.000000:  43%|####2     | 3/7 [00:00<00:00,  6.87it/s]"
     ]
    },
    {
     "name": "stdout",
     "output_type": "stream",
     "text": [
      "Training until validation scores don't improve for 5 rounds\n",
      "Early stopping, best iteration is:\n",
      "[1]\tvalid_0's auc: 1\n"
     ]
    },
    {
     "name": "stderr",
     "output_type": "stream",
     "text": [
      "feature_fraction, val_score: 1.000000:  43%|####2     | 3/7 [00:00<00:00,  6.87it/s][I 2020-08-15 19:40:31,658] Trial 3 finished with value: 1.0 and parameters: {'feature_fraction': 0.5}. Best is trial 0 with value: 1.0.\n",
      "feature_fraction, val_score: 1.000000:  57%|#####7    | 4/7 [00:00<00:00,  6.87it/s]"
     ]
    },
    {
     "name": "stdout",
     "output_type": "stream",
     "text": [
      "Training until validation scores don't improve for 5 rounds\n",
      "Early stopping, best iteration is:\n",
      "[1]\tvalid_0's auc: 1\n"
     ]
    },
    {
     "name": "stderr",
     "output_type": "stream",
     "text": [
      "feature_fraction, val_score: 1.000000:  71%|#######1  | 5/7 [00:00<00:00,  8.33it/s][I 2020-08-15 19:40:31,716] Trial 4 finished with value: 1.0 and parameters: {'feature_fraction': 0.8999999999999999}. Best is trial 0 with value: 1.0.\n",
      "feature_fraction, val_score: 1.000000:  71%|#######1  | 5/7 [00:00<00:00,  8.33it/s]"
     ]
    },
    {
     "name": "stdout",
     "output_type": "stream",
     "text": [
      "Training until validation scores don't improve for 5 rounds\n",
      "Early stopping, best iteration is:\n",
      "[1]\tvalid_0's auc: 1\n"
     ]
    },
    {
     "name": "stderr",
     "output_type": "stream",
     "text": [
      "feature_fraction, val_score: 1.000000:  71%|#######1  | 5/7 [00:00<00:00,  8.33it/s][I 2020-08-15 19:40:31,782] Trial 5 finished with value: 1.0 and parameters: {'feature_fraction': 0.7}. Best is trial 0 with value: 1.0.\n",
      "feature_fraction, val_score: 1.000000:  86%|########5 | 6/7 [00:00<00:00,  8.33it/s]"
     ]
    },
    {
     "name": "stdout",
     "output_type": "stream",
     "text": [
      "Training until validation scores don't improve for 5 rounds\n",
      "Early stopping, best iteration is:\n",
      "[1]\tvalid_0's auc: 1\n"
     ]
    },
    {
     "name": "stderr",
     "output_type": "stream",
     "text": [
      "feature_fraction, val_score: 1.000000: 100%|##########| 7/7 [00:00<00:00,  9.92it/s][I 2020-08-15 19:40:31,832] Trial 6 finished with value: 1.0 and parameters: {'feature_fraction': 0.6}. Best is trial 0 with value: 1.0.\n",
      "feature_fraction, val_score: 1.000000: 100%|##########| 7/7 [00:00<00:00, 12.53it/s]\n",
      "num_leaves, val_score: 1.000000:   0%|          | 0/20 [00:00<?, ?it/s]"
     ]
    },
    {
     "name": "stdout",
     "output_type": "stream",
     "text": [
      "Training until validation scores don't improve for 5 rounds\n",
      "Early stopping, best iteration is:\n",
      "[1]\tvalid_0's auc: 1\n"
     ]
    },
    {
     "name": "stderr",
     "output_type": "stream",
     "text": [
      "num_leaves, val_score: 1.000000:   0%|          | 0/20 [00:00<?, ?it/s][I 2020-08-15 19:40:31,918] Trial 7 finished with value: 1.0 and parameters: {'num_leaves': 128}. Best is trial 7 with value: 1.0.\n",
      "num_leaves, val_score: 1.000000:   5%|5         | 1/20 [00:00<00:01, 12.38it/s]"
     ]
    },
    {
     "name": "stdout",
     "output_type": "stream",
     "text": [
      "Training until validation scores don't improve for 5 rounds\n",
      "Early stopping, best iteration is:\n",
      "[1]\tvalid_0's auc: 1\n"
     ]
    },
    {
     "name": "stderr",
     "output_type": "stream",
     "text": [
      "num_leaves, val_score: 1.000000:  10%|#         | 2/20 [00:00<00:01, 14.37it/s][I 2020-08-15 19:40:31,982] Trial 8 finished with value: 1.0 and parameters: {'num_leaves': 145}. Best is trial 7 with value: 1.0.\n",
      "num_leaves, val_score: 1.000000:  10%|#         | 2/20 [00:00<00:01, 14.37it/s]"
     ]
    },
    {
     "name": "stdout",
     "output_type": "stream",
     "text": [
      "Training until validation scores don't improve for 5 rounds\n",
      "Early stopping, best iteration is:\n",
      "[1]\tvalid_0's auc: 1\n"
     ]
    },
    {
     "name": "stderr",
     "output_type": "stream",
     "text": [
      "num_leaves, val_score: 1.000000:  10%|#         | 2/20 [00:00<00:01, 14.37it/s][I 2020-08-15 19:40:32,069] Trial 9 finished with value: 1.0 and parameters: {'num_leaves': 205}. Best is trial 7 with value: 1.0.\n",
      "num_leaves, val_score: 1.000000:  15%|#5        | 3/20 [00:00<00:01, 14.37it/s]"
     ]
    },
    {
     "name": "stdout",
     "output_type": "stream",
     "text": [
      "Training until validation scores don't improve for 5 rounds\n",
      "Early stopping, best iteration is:\n",
      "[1]\tvalid_0's auc: 1\n"
     ]
    },
    {
     "name": "stderr",
     "output_type": "stream",
     "text": [
      "num_leaves, val_score: 1.000000:  20%|##        | 4/20 [00:00<00:01, 14.02it/s][I 2020-08-15 19:40:32,143] Trial 10 finished with value: 1.0 and parameters: {'num_leaves': 8}. Best is trial 7 with value: 1.0.\n",
      "num_leaves, val_score: 1.000000:  20%|##        | 4/20 [00:00<00:01, 14.02it/s]"
     ]
    },
    {
     "name": "stdout",
     "output_type": "stream",
     "text": [
      "Training until validation scores don't improve for 5 rounds\n",
      "Early stopping, best iteration is:\n",
      "[1]\tvalid_0's auc: 1\n"
     ]
    },
    {
     "name": "stderr",
     "output_type": "stream",
     "text": [
      "num_leaves, val_score: 1.000000:  20%|##        | 4/20 [00:00<00:01, 14.02it/s][I 2020-08-15 19:40:32,208] Trial 11 finished with value: 1.0 and parameters: {'num_leaves': 19}. Best is trial 7 with value: 1.0.\n",
      "num_leaves, val_score: 1.000000:  25%|##5       | 5/20 [00:00<00:01, 14.02it/s]"
     ]
    },
    {
     "name": "stdout",
     "output_type": "stream",
     "text": [
      "Training until validation scores don't improve for 5 rounds\n",
      "Early stopping, best iteration is:\n",
      "[1]\tvalid_0's auc: 1\n"
     ]
    },
    {
     "name": "stderr",
     "output_type": "stream",
     "text": [
      "num_leaves, val_score: 1.000000:  30%|###       | 6/20 [00:00<00:01, 11.20it/s][I 2020-08-15 19:40:32,396] Trial 12 finished with value: 1.0 and parameters: {'num_leaves': 245}. Best is trial 7 with value: 1.0.\n",
      "num_leaves, val_score: 1.000000:  30%|###       | 6/20 [00:00<00:01, 11.20it/s]"
     ]
    },
    {
     "name": "stdout",
     "output_type": "stream",
     "text": [
      "Training until validation scores don't improve for 5 rounds\n",
      "Early stopping, best iteration is:\n",
      "[1]\tvalid_0's auc: 1\n"
     ]
    },
    {
     "name": "stderr",
     "output_type": "stream",
     "text": [
      "num_leaves, val_score: 1.000000:  30%|###       | 6/20 [00:00<00:01, 11.20it/s][I 2020-08-15 19:40:32,463] Trial 13 finished with value: 1.0 and parameters: {'num_leaves': 82}. Best is trial 7 with value: 1.0.\n",
      "num_leaves, val_score: 1.000000:  35%|###5      | 7/20 [00:00<00:01, 11.20it/s]"
     ]
    },
    {
     "name": "stdout",
     "output_type": "stream",
     "text": [
      "Training until validation scores don't improve for 5 rounds\n",
      "Early stopping, best iteration is:\n",
      "[1]\tvalid_0's auc: 1\n"
     ]
    },
    {
     "name": "stderr",
     "output_type": "stream",
     "text": [
      "num_leaves, val_score: 1.000000:  40%|####      | 8/20 [00:00<00:01, 11.67it/s][I 2020-08-15 19:40:32,556] Trial 14 finished with value: 1.0 and parameters: {'num_leaves': 58}. Best is trial 7 with value: 1.0.\n",
      "num_leaves, val_score: 1.000000:  40%|####      | 8/20 [00:00<00:01, 11.67it/s]"
     ]
    },
    {
     "name": "stdout",
     "output_type": "stream",
     "text": [
      "Training until validation scores don't improve for 5 rounds\n",
      "Early stopping, best iteration is:\n",
      "[1]\tvalid_0's auc: 1\n"
     ]
    },
    {
     "name": "stderr",
     "output_type": "stream",
     "text": [
      "num_leaves, val_score: 1.000000:  45%|####5     | 9/20 [00:00<00:01,  9.87it/s][I 2020-08-15 19:40:32,688] Trial 15 finished with value: 1.0 and parameters: {'num_leaves': 252}. Best is trial 7 with value: 1.0.\n",
      "num_leaves, val_score: 1.000000:  45%|####5     | 9/20 [00:00<00:01,  9.87it/s]"
     ]
    },
    {
     "name": "stdout",
     "output_type": "stream",
     "text": [
      "Training until validation scores don't improve for 5 rounds\n",
      "Early stopping, best iteration is:\n",
      "[1]\tvalid_0's auc: 1\n"
     ]
    },
    {
     "name": "stderr",
     "output_type": "stream",
     "text": [
      "num_leaves, val_score: 1.000000:  45%|####5     | 9/20 [00:00<00:01,  9.87it/s][I 2020-08-15 19:40:32,772] Trial 16 finished with value: 1.0 and parameters: {'num_leaves': 178}. Best is trial 7 with value: 1.0.\n",
      "num_leaves, val_score: 1.000000:  50%|#####     | 10/20 [00:00<00:01,  9.87it/s]"
     ]
    },
    {
     "name": "stdout",
     "output_type": "stream",
     "text": [
      "Training until validation scores don't improve for 5 rounds\n",
      "Early stopping, best iteration is:\n",
      "[1]\tvalid_0's auc: 1\n"
     ]
    },
    {
     "name": "stderr",
     "output_type": "stream",
     "text": [
      "num_leaves, val_score: 1.000000:  55%|#####5    | 11/20 [00:01<00:00, 10.52it/s][I 2020-08-15 19:40:32,852] Trial 17 finished with value: 1.0 and parameters: {'num_leaves': 59}. Best is trial 7 with value: 1.0.\n",
      "num_leaves, val_score: 1.000000:  55%|#####5    | 11/20 [00:01<00:00, 10.52it/s]"
     ]
    },
    {
     "name": "stdout",
     "output_type": "stream",
     "text": [
      "Training until validation scores don't improve for 5 rounds\n",
      "Early stopping, best iteration is:\n",
      "[1]\tvalid_0's auc: 1\n"
     ]
    },
    {
     "name": "stderr",
     "output_type": "stream",
     "text": [
      "num_leaves, val_score: 1.000000:  60%|######    | 12/20 [00:01<00:01,  7.64it/s][I 2020-08-15 19:40:33,063] Trial 18 finished with value: 1.0 and parameters: {'num_leaves': 252}. Best is trial 7 with value: 1.0.\n",
      "num_leaves, val_score: 1.000000:  60%|######    | 12/20 [00:01<00:01,  7.64it/s]"
     ]
    },
    {
     "name": "stdout",
     "output_type": "stream",
     "text": [
      "Training until validation scores don't improve for 5 rounds\n",
      "Early stopping, best iteration is:\n",
      "[1]\tvalid_0's auc: 1\n"
     ]
    },
    {
     "name": "stderr",
     "output_type": "stream",
     "text": [
      "num_leaves, val_score: 1.000000:  65%|######5   | 13/20 [00:01<00:01,  5.04it/s][I 2020-08-15 19:40:33,421] Trial 19 finished with value: 1.0 and parameters: {'num_leaves': 185}. Best is trial 7 with value: 1.0.\n",
      "num_leaves, val_score: 1.000000:  65%|######5   | 13/20 [00:01<00:01,  5.04it/s]"
     ]
    },
    {
     "name": "stdout",
     "output_type": "stream",
     "text": [
      "Training until validation scores don't improve for 5 rounds\n",
      "Early stopping, best iteration is:\n",
      "[1]\tvalid_0's auc: 1\n"
     ]
    },
    {
     "name": "stderr",
     "output_type": "stream",
     "text": [
      "num_leaves, val_score: 1.000000:  65%|######5   | 13/20 [00:01<00:01,  5.04it/s][I 2020-08-15 19:40:33,495] Trial 20 finished with value: 1.0 and parameters: {'num_leaves': 75}. Best is trial 7 with value: 1.0.\n",
      "num_leaves, val_score: 1.000000:  70%|#######   | 14/20 [00:01<00:01,  5.04it/s]"
     ]
    },
    {
     "name": "stdout",
     "output_type": "stream",
     "text": [
      "Training until validation scores don't improve for 5 rounds\n",
      "Early stopping, best iteration is:\n",
      "[1]\tvalid_0's auc: 1\n"
     ]
    },
    {
     "name": "stderr",
     "output_type": "stream",
     "text": [
      "num_leaves, val_score: 1.000000:  75%|#######5  | 15/20 [00:01<00:00,  6.03it/s][I 2020-08-15 19:40:33,599] Trial 21 finished with value: 1.0 and parameters: {'num_leaves': 116}. Best is trial 7 with value: 1.0.\n",
      "num_leaves, val_score: 1.000000:  75%|#######5  | 15/20 [00:01<00:00,  6.03it/s]"
     ]
    },
    {
     "name": "stdout",
     "output_type": "stream",
     "text": [
      "Training until validation scores don't improve for 5 rounds\n",
      "Early stopping, best iteration is:\n",
      "[1]\tvalid_0's auc: 1\n"
     ]
    },
    {
     "name": "stderr",
     "output_type": "stream",
     "text": [
      "num_leaves, val_score: 1.000000:  80%|########  | 16/20 [00:01<00:00,  5.75it/s][I 2020-08-15 19:40:33,791] Trial 22 finished with value: 1.0 and parameters: {'num_leaves': 209}. Best is trial 7 with value: 1.0.\n",
      "num_leaves, val_score: 1.000000:  80%|########  | 16/20 [00:01<00:00,  5.75it/s]"
     ]
    },
    {
     "name": "stdout",
     "output_type": "stream",
     "text": [
      "Training until validation scores don't improve for 5 rounds\n",
      "Early stopping, best iteration is:\n",
      "[1]\tvalid_0's auc: 1\n"
     ]
    },
    {
     "name": "stderr",
     "output_type": "stream",
     "text": [
      "num_leaves, val_score: 1.000000:  80%|########  | 16/20 [00:02<00:00,  5.75it/s][I 2020-08-15 19:40:33,857] Trial 23 finished with value: 1.0 and parameters: {'num_leaves': 162}. Best is trial 7 with value: 1.0.\n",
      "num_leaves, val_score: 1.000000:  85%|########5 | 17/20 [00:02<00:00,  5.75it/s]"
     ]
    },
    {
     "name": "stdout",
     "output_type": "stream",
     "text": [
      "Training until validation scores don't improve for 5 rounds\n",
      "Early stopping, best iteration is:\n",
      "[1]\tvalid_0's auc: 1\n"
     ]
    },
    {
     "name": "stderr",
     "output_type": "stream",
     "text": [
      "num_leaves, val_score: 1.000000:  90%|######### | 18/20 [00:02<00:00,  7.10it/s][I 2020-08-15 19:40:33,919] Trial 24 finished with value: 1.0 and parameters: {'num_leaves': 103}. Best is trial 7 with value: 1.0.\n",
      "num_leaves, val_score: 1.000000:  90%|######### | 18/20 [00:02<00:00,  7.10it/s]"
     ]
    },
    {
     "name": "stdout",
     "output_type": "stream",
     "text": [
      "Training until validation scores don't improve for 5 rounds\n",
      "Early stopping, best iteration is:\n",
      "[1]\tvalid_0's auc: 1\n"
     ]
    },
    {
     "name": "stderr",
     "output_type": "stream",
     "text": [
      "num_leaves, val_score: 1.000000:  90%|######### | 18/20 [00:02<00:00,  7.10it/s][I 2020-08-15 19:40:34,005] Trial 25 finished with value: 1.0 and parameters: {'num_leaves': 220}. Best is trial 7 with value: 1.0.\n",
      "num_leaves, val_score: 1.000000:  95%|#########5| 19/20 [00:02<00:00,  7.10it/s]"
     ]
    },
    {
     "name": "stdout",
     "output_type": "stream",
     "text": [
      "Training until validation scores don't improve for 5 rounds\n",
      "Early stopping, best iteration is:\n",
      "[1]\tvalid_0's auc: 1\n"
     ]
    },
    {
     "name": "stderr",
     "output_type": "stream",
     "text": [
      "num_leaves, val_score: 1.000000: 100%|##########| 20/20 [00:02<00:00,  8.14it/s][I 2020-08-15 19:40:34,080] Trial 26 finished with value: 1.0 and parameters: {'num_leaves': 156}. Best is trial 7 with value: 1.0.\n",
      "num_leaves, val_score: 1.000000: 100%|##########| 20/20 [00:02<00:00,  8.91it/s]\n",
      "bagging, val_score: 1.000000:   0%|          | 0/10 [00:00<?, ?it/s]"
     ]
    },
    {
     "name": "stdout",
     "output_type": "stream",
     "text": [
      "Training until validation scores don't improve for 5 rounds\n",
      "Early stopping, best iteration is:\n",
      "[1]\tvalid_0's auc: 1\n"
     ]
    },
    {
     "name": "stderr",
     "output_type": "stream",
     "text": [
      "bagging, val_score: 1.000000:   0%|          | 0/10 [00:00<?, ?it/s][I 2020-08-15 19:40:34,148] Trial 27 finished with value: 1.0 and parameters: {'bagging_fraction': 0.9516299320888825, 'bagging_freq': 6}. Best is trial 27 with value: 1.0.\n",
      "bagging, val_score: 1.000000:  10%|#         | 1/10 [00:00<00:00, 16.73it/s]"
     ]
    },
    {
     "name": "stdout",
     "output_type": "stream",
     "text": [
      "Training until validation scores don't improve for 5 rounds\n",
      "Early stopping, best iteration is:\n",
      "[1]\tvalid_0's auc: 1\n"
     ]
    },
    {
     "name": "stderr",
     "output_type": "stream",
     "text": [
      "bagging, val_score: 1.000000:  20%|##        | 2/10 [00:00<00:01,  4.78it/s][I 2020-08-15 19:40:34,512] Trial 28 finished with value: 1.0 and parameters: {'bagging_fraction': 0.4016182708683118, 'bagging_freq': 1}. Best is trial 27 with value: 1.0.\n",
      "bagging, val_score: 1.000000:  20%|##        | 2/10 [00:00<00:01,  4.78it/s]"
     ]
    },
    {
     "name": "stdout",
     "output_type": "stream",
     "text": [
      "Training until validation scores don't improve for 5 rounds\n",
      "Early stopping, best iteration is:\n",
      "[1]\tvalid_0's auc: 1\n"
     ]
    },
    {
     "name": "stderr",
     "output_type": "stream",
     "text": [
      "bagging, val_score: 1.000000:  20%|##        | 2/10 [00:00<00:01,  4.78it/s][I 2020-08-15 19:40:34,584] Trial 29 finished with value: 1.0 and parameters: {'bagging_fraction': 0.4807605593665921, 'bagging_freq': 1}. Best is trial 27 with value: 1.0.\n",
      "bagging, val_score: 1.000000:  30%|###       | 3/10 [00:00<00:01,  4.78it/s]"
     ]
    },
    {
     "name": "stdout",
     "output_type": "stream",
     "text": [
      "Training until validation scores don't improve for 5 rounds\n",
      "Early stopping, best iteration is:\n",
      "[1]\tvalid_0's auc: 1\n"
     ]
    },
    {
     "name": "stderr",
     "output_type": "stream",
     "text": [
      "bagging, val_score: 1.000000:  40%|####      | 4/10 [00:00<00:00,  6.07it/s][I 2020-08-15 19:40:34,633] Trial 30 finished with value: 1.0 and parameters: {'bagging_fraction': 0.982463740708008, 'bagging_freq': 7}. Best is trial 27 with value: 1.0.\n",
      "bagging, val_score: 1.000000:  40%|####      | 4/10 [00:00<00:00,  6.07it/s]"
     ]
    },
    {
     "name": "stdout",
     "output_type": "stream",
     "text": [
      "Training until validation scores don't improve for 5 rounds\n",
      "Early stopping, best iteration is:\n",
      "[1]\tvalid_0's auc: 1\n"
     ]
    },
    {
     "name": "stderr",
     "output_type": "stream",
     "text": [
      "bagging, val_score: 1.000000:  40%|####      | 4/10 [00:00<00:00,  6.07it/s][I 2020-08-15 19:40:34,711] Trial 31 finished with value: 1.0 and parameters: {'bagging_fraction': 0.9343088101425634, 'bagging_freq': 6}. Best is trial 27 with value: 1.0.\n",
      "bagging, val_score: 1.000000:  50%|#####     | 5/10 [00:00<00:00,  6.07it/s]"
     ]
    },
    {
     "name": "stdout",
     "output_type": "stream",
     "text": [
      "Training until validation scores don't improve for 5 rounds\n",
      "Early stopping, best iteration is:\n",
      "[1]\tvalid_0's auc: 1\n"
     ]
    },
    {
     "name": "stderr",
     "output_type": "stream",
     "text": [
      "bagging, val_score: 1.000000:  60%|######    | 6/10 [00:00<00:00,  7.27it/s][I 2020-08-15 19:40:34,781] Trial 32 finished with value: 1.0 and parameters: {'bagging_fraction': 0.4135703500080807, 'bagging_freq': 1}. Best is trial 27 with value: 1.0.\n",
      "bagging, val_score: 1.000000:  60%|######    | 6/10 [00:00<00:00,  7.27it/s]"
     ]
    },
    {
     "name": "stdout",
     "output_type": "stream",
     "text": [
      "Training until validation scores don't improve for 5 rounds\n",
      "Early stopping, best iteration is:\n",
      "[1]\tvalid_0's auc: 1\n"
     ]
    },
    {
     "name": "stderr",
     "output_type": "stream",
     "text": [
      "bagging, val_score: 1.000000:  60%|######    | 6/10 [00:00<00:00,  7.27it/s][I 2020-08-15 19:40:34,826] Trial 33 finished with value: 1.0 and parameters: {'bagging_fraction': 0.40290203263445945, 'bagging_freq': 1}. Best is trial 27 with value: 1.0.\n",
      "bagging, val_score: 1.000000:  70%|#######   | 7/10 [00:00<00:00,  7.27it/s]"
     ]
    },
    {
     "name": "stdout",
     "output_type": "stream",
     "text": [
      "Training until validation scores don't improve for 5 rounds\n",
      "Early stopping, best iteration is:\n",
      "[1]\tvalid_0's auc: 1\n"
     ]
    },
    {
     "name": "stderr",
     "output_type": "stream",
     "text": [
      "bagging, val_score: 1.000000:  70%|#######   | 7/10 [00:00<00:00,  7.27it/s][I 2020-08-15 19:40:34,879] Trial 34 finished with value: 1.0 and parameters: {'bagging_fraction': 0.9496791850277148, 'bagging_freq': 7}. Best is trial 27 with value: 1.0.\n",
      "bagging, val_score: 1.000000:  80%|########  | 8/10 [00:00<00:00,  7.27it/s]"
     ]
    },
    {
     "name": "stdout",
     "output_type": "stream",
     "text": [
      "Training until validation scores don't improve for 5 rounds\n",
      "Early stopping, best iteration is:\n",
      "[1]\tvalid_0's auc: 1\n"
     ]
    },
    {
     "name": "stderr",
     "output_type": "stream",
     "text": [
      "bagging, val_score: 1.000000:  90%|######### | 9/10 [00:00<00:00,  9.03it/s][I 2020-08-15 19:40:34,926] Trial 35 finished with value: 1.0 and parameters: {'bagging_fraction': 0.7091950317649913, 'bagging_freq': 3}. Best is trial 27 with value: 1.0.\n",
      "bagging, val_score: 1.000000:  90%|######### | 9/10 [00:00<00:00,  9.03it/s]"
     ]
    },
    {
     "name": "stdout",
     "output_type": "stream",
     "text": [
      "Training until validation scores don't improve for 5 rounds\n",
      "Early stopping, best iteration is:\n",
      "[1]\tvalid_0's auc: 1\n"
     ]
    },
    {
     "name": "stderr",
     "output_type": "stream",
     "text": [
      "bagging, val_score: 1.000000:  90%|######### | 9/10 [00:00<00:00,  9.03it/s][I 2020-08-15 19:40:34,983] Trial 36 finished with value: 1.0 and parameters: {'bagging_fraction': 0.7458395843257934, 'bagging_freq': 3}. Best is trial 27 with value: 1.0.\n",
      "bagging, val_score: 1.000000: 100%|##########| 10/10 [00:00<00:00, 11.17it/s]\n",
      "feature_fraction_stage2, val_score: 1.000000:   0%|          | 0/3 [00:00<?, ?it/s]"
     ]
    },
    {
     "name": "stdout",
     "output_type": "stream",
     "text": [
      "Training until validation scores don't improve for 5 rounds\n",
      "Early stopping, best iteration is:\n",
      "[1]\tvalid_0's auc: 1\n"
     ]
    },
    {
     "name": "stderr",
     "output_type": "stream",
     "text": [
      "feature_fraction_stage2, val_score: 1.000000:   0%|          | 0/3 [00:00<?, ?it/s][I 2020-08-15 19:40:35,031] Trial 37 finished with value: 1.0 and parameters: {'feature_fraction': 0.92}. Best is trial 37 with value: 1.0.\n",
      "feature_fraction_stage2, val_score: 1.000000:  33%|###3      | 1/3 [00:00<00:00, 20.37it/s]"
     ]
    },
    {
     "name": "stdout",
     "output_type": "stream",
     "text": [
      "Training until validation scores don't improve for 5 rounds\n",
      "Early stopping, best iteration is:\n",
      "[1]\tvalid_0's auc: 1\n"
     ]
    },
    {
     "name": "stderr",
     "output_type": "stream",
     "text": [
      "feature_fraction_stage2, val_score: 1.000000:  33%|###3      | 1/3 [00:00<00:00, 12.61it/s][I 2020-08-15 19:40:35,071] Trial 38 finished with value: 1.0 and parameters: {'feature_fraction': 0.9840000000000001}. Best is trial 37 with value: 1.0.\n",
      "feature_fraction_stage2, val_score: 1.000000:  67%|######6   | 2/3 [00:00<00:00, 22.25it/s]"
     ]
    },
    {
     "name": "stdout",
     "output_type": "stream",
     "text": [
      "Training until validation scores don't improve for 5 rounds\n",
      "Early stopping, best iteration is:\n",
      "[1]\tvalid_0's auc: 1\n"
     ]
    },
    {
     "name": "stderr",
     "output_type": "stream",
     "text": [
      "feature_fraction_stage2, val_score: 1.000000: 100%|##########| 3/3 [00:00<00:00, 24.76it/s][I 2020-08-15 19:40:35,113] Trial 39 finished with value: 1.0 and parameters: {'feature_fraction': 0.9520000000000001}. Best is trial 37 with value: 1.0.\n",
      "feature_fraction_stage2, val_score: 1.000000: 100%|##########| 3/3 [00:00<00:00, 23.39it/s]\n",
      "regularization_factors, val_score: 1.000000:   0%|          | 0/20 [00:00<?, ?it/s]"
     ]
    },
    {
     "name": "stdout",
     "output_type": "stream",
     "text": [
      "Training until validation scores don't improve for 5 rounds\n",
      "Early stopping, best iteration is:\n",
      "[1]\tvalid_0's auc: 1\n"
     ]
    },
    {
     "name": "stderr",
     "output_type": "stream",
     "text": [
      "regularization_factors, val_score: 1.000000:   0%|          | 0/20 [00:00<?, ?it/s][I 2020-08-15 19:40:35,167] Trial 40 finished with value: 1.0 and parameters: {'lambda_l1': 0.0033052343242539225, 'lambda_l2': 0.16992798732794764}. Best is trial 40 with value: 1.0.\n",
      "regularization_factors, val_score: 1.000000:   5%|5         | 1/20 [00:00<00:00, 20.75it/s]"
     ]
    },
    {
     "name": "stdout",
     "output_type": "stream",
     "text": [
      "Training until validation scores don't improve for 5 rounds\n",
      "Early stopping, best iteration is:\n",
      "[1]\tvalid_0's auc: 1\n"
     ]
    },
    {
     "name": "stderr",
     "output_type": "stream",
     "text": [
      "regularization_factors, val_score: 1.000000:  10%|#         | 2/20 [00:00<00:00, 19.16it/s][I 2020-08-15 19:40:35,230] Trial 41 finished with value: 1.0 and parameters: {'lambda_l1': 2.0556908585728797e-07, 'lambda_l2': 8.664119547615005e-08}. Best is trial 40 with value: 1.0.\n",
      "regularization_factors, val_score: 1.000000:  10%|#         | 2/20 [00:00<00:00, 19.16it/s]"
     ]
    },
    {
     "name": "stdout",
     "output_type": "stream",
     "text": [
      "Training until validation scores don't improve for 5 rounds\n",
      "Early stopping, best iteration is:\n",
      "[1]\tvalid_0's auc: 1\n"
     ]
    },
    {
     "name": "stderr",
     "output_type": "stream",
     "text": [
      "regularization_factors, val_score: 1.000000:  10%|#         | 2/20 [00:00<00:00, 19.16it/s][I 2020-08-15 19:40:35,288] Trial 42 finished with value: 1.0 and parameters: {'lambda_l1': 3.7962196209741808, 'lambda_l2': 3.54759118972974e-08}. Best is trial 40 with value: 1.0.\n",
      "regularization_factors, val_score: 1.000000:  15%|#5        | 3/20 [00:00<00:00, 19.16it/s]"
     ]
    },
    {
     "name": "stdout",
     "output_type": "stream",
     "text": [
      "Training until validation scores don't improve for 5 rounds\n",
      "Early stopping, best iteration is:\n",
      "[1]\tvalid_0's auc: 1\n"
     ]
    },
    {
     "name": "stderr",
     "output_type": "stream",
     "text": [
      "regularization_factors, val_score: 1.000000:  20%|##        | 4/20 [00:00<00:00, 17.96it/s][I 2020-08-15 19:40:35,357] Trial 43 finished with value: 1.0 and parameters: {'lambda_l1': 5.15819991786514e-08, 'lambda_l2': 4.022630525162832}. Best is trial 40 with value: 1.0.\n",
      "regularization_factors, val_score: 1.000000:  20%|##        | 4/20 [00:00<00:00, 17.96it/s]"
     ]
    },
    {
     "name": "stdout",
     "output_type": "stream",
     "text": [
      "Training until validation scores don't improve for 5 rounds\n",
      "Early stopping, best iteration is:\n",
      "[1]\tvalid_0's auc: 1\n"
     ]
    },
    {
     "name": "stderr",
     "output_type": "stream",
     "text": [
      "regularization_factors, val_score: 1.000000:  20%|##        | 4/20 [00:00<00:00, 17.96it/s][I 2020-08-15 19:40:35,424] Trial 44 finished with value: 1.0 and parameters: {'lambda_l1': 4.479417747059165, 'lambda_l2': 0.00020317045562353157}. Best is trial 40 with value: 1.0.\n",
      "regularization_factors, val_score: 1.000000:  25%|##5       | 5/20 [00:00<00:00, 17.96it/s]"
     ]
    },
    {
     "name": "stdout",
     "output_type": "stream",
     "text": [
      "Training until validation scores don't improve for 5 rounds\n",
      "Early stopping, best iteration is:\n",
      "[1]\tvalid_0's auc: 1\n"
     ]
    },
    {
     "name": "stderr",
     "output_type": "stream",
     "text": [
      "regularization_factors, val_score: 1.000000:  30%|###       | 6/20 [00:00<00:00, 15.45it/s][I 2020-08-15 19:40:35,531] Trial 45 finished with value: 1.0 and parameters: {'lambda_l1': 0.00020708937237439654, 'lambda_l2': 0.0001464765268199814}. Best is trial 40 with value: 1.0.\n",
      "regularization_factors, val_score: 1.000000:  30%|###       | 6/20 [00:00<00:00, 15.45it/s]"
     ]
    },
    {
     "name": "stdout",
     "output_type": "stream",
     "text": [
      "Training until validation scores don't improve for 5 rounds\n",
      "Early stopping, best iteration is:\n",
      "[1]\tvalid_0's auc: 1\n"
     ]
    },
    {
     "name": "stderr",
     "output_type": "stream",
     "text": [
      "regularization_factors, val_score: 1.000000:  30%|###       | 6/20 [00:00<00:00, 15.45it/s][I 2020-08-15 19:40:35,571] Trial 46 finished with value: 1.0 and parameters: {'lambda_l1': 0.00023569369340554865, 'lambda_l2': 0.039898246044120726}. Best is trial 40 with value: 1.0.\n",
      "regularization_factors, val_score: 1.000000:  35%|###5      | 7/20 [00:00<00:00, 15.45it/s]"
     ]
    },
    {
     "name": "stdout",
     "output_type": "stream",
     "text": [
      "Training until validation scores don't improve for 5 rounds\n",
      "Early stopping, best iteration is:\n",
      "[1]\tvalid_0's auc: 1\n"
     ]
    },
    {
     "name": "stderr",
     "output_type": "stream",
     "text": [
      "regularization_factors, val_score: 1.000000:  35%|###5      | 7/20 [00:00<00:00, 15.45it/s][I 2020-08-15 19:40:35,612] Trial 47 finished with value: 1.0 and parameters: {'lambda_l1': 0.03883752116417805, 'lambda_l2': 1.0166241129425852e-06}. Best is trial 40 with value: 1.0.\n",
      "regularization_factors, val_score: 1.000000:  40%|####      | 8/20 [00:00<00:00, 15.45it/s]"
     ]
    },
    {
     "name": "stdout",
     "output_type": "stream",
     "text": [
      "Training until validation scores don't improve for 5 rounds\n",
      "Early stopping, best iteration is:\n",
      "[1]\tvalid_0's auc: 1\n"
     ]
    },
    {
     "name": "stderr",
     "output_type": "stream",
     "text": [
      "regularization_factors, val_score: 1.000000:  45%|####5     | 9/20 [00:00<00:00, 17.00it/s][I 2020-08-15 19:40:35,664] Trial 48 finished with value: 1.0 and parameters: {'lambda_l1': 2.352497596777851e-06, 'lambda_l2': 1.457907071278143e-05}. Best is trial 40 with value: 1.0.\n",
      "regularization_factors, val_score: 1.000000:  45%|####5     | 9/20 [00:00<00:00, 17.00it/s]"
     ]
    },
    {
     "name": "stdout",
     "output_type": "stream",
     "text": [
      "Training until validation scores don't improve for 5 rounds\n",
      "Early stopping, best iteration is:\n",
      "[1]\tvalid_0's auc: 1\n"
     ]
    },
    {
     "name": "stderr",
     "output_type": "stream",
     "text": [
      "regularization_factors, val_score: 1.000000:  45%|####5     | 9/20 [00:00<00:00, 17.00it/s][I 2020-08-15 19:40:35,703] Trial 49 finished with value: 1.0 and parameters: {'lambda_l1': 6.149289714040382e-06, 'lambda_l2': 0.0158418331617829}. Best is trial 40 with value: 1.0.\n",
      "regularization_factors, val_score: 1.000000:  50%|#####     | 10/20 [00:00<00:00, 17.00it/s]"
     ]
    },
    {
     "name": "stdout",
     "output_type": "stream",
     "text": [
      "Training until validation scores don't improve for 5 rounds\n",
      "Early stopping, best iteration is:\n",
      "[1]\tvalid_0's auc: 1\n"
     ]
    },
    {
     "name": "stderr",
     "output_type": "stream",
     "text": [
      "regularization_factors, val_score: 1.000000:  50%|#####     | 10/20 [00:00<00:00, 17.00it/s][I 2020-08-15 19:40:35,755] Trial 50 finished with value: 1.0 and parameters: {'lambda_l1': 0.05494550533652858, 'lambda_l2': 3.280373945232189}. Best is trial 40 with value: 1.0.\n",
      "regularization_factors, val_score: 1.000000:  55%|#####5    | 11/20 [00:00<00:00, 17.00it/s]"
     ]
    },
    {
     "name": "stdout",
     "output_type": "stream",
     "text": [
      "Training until validation scores don't improve for 5 rounds\n",
      "Early stopping, best iteration is:\n",
      "[1]\tvalid_0's auc: 1\n"
     ]
    },
    {
     "name": "stderr",
     "output_type": "stream",
     "text": [
      "regularization_factors, val_score: 1.000000:  60%|######    | 12/20 [00:00<00:00, 17.33it/s][I 2020-08-15 19:40:35,829] Trial 51 finished with value: 1.0 and parameters: {'lambda_l1': 0.20605731329891008, 'lambda_l2': 1.1292378977687583e-08}. Best is trial 40 with value: 1.0.\n",
      "regularization_factors, val_score: 1.000000:  60%|######    | 12/20 [00:00<00:00, 17.33it/s]"
     ]
    },
    {
     "name": "stdout",
     "output_type": "stream",
     "text": [
      "Training until validation scores don't improve for 5 rounds\n",
      "Early stopping, best iteration is:\n",
      "[1]\tvalid_0's auc: 1\n"
     ]
    },
    {
     "name": "stderr",
     "output_type": "stream",
     "text": [
      "regularization_factors, val_score: 1.000000:  60%|######    | 12/20 [00:00<00:00, 17.33it/s][I 2020-08-15 19:40:35,927] Trial 52 finished with value: 1.0 and parameters: {'lambda_l1': 1.2233339186174718e-05, 'lambda_l2': 0.00250629837473373}. Best is trial 40 with value: 1.0.\n",
      "regularization_factors, val_score: 1.000000:  65%|######5   | 13/20 [00:00<00:00, 17.33it/s]"
     ]
    },
    {
     "name": "stdout",
     "output_type": "stream",
     "text": [
      "Training until validation scores don't improve for 5 rounds\n",
      "Early stopping, best iteration is:\n",
      "[1]\tvalid_0's auc: 1\n"
     ]
    },
    {
     "name": "stderr",
     "output_type": "stream",
     "text": [
      "regularization_factors, val_score: 1.000000:  70%|#######   | 14/20 [00:00<00:00, 15.63it/s][I 2020-08-15 19:40:35,987] Trial 53 finished with value: 1.0 and parameters: {'lambda_l1': 1.1390953782060565e-08, 'lambda_l2': 1.926745146477861e-06}. Best is trial 40 with value: 1.0.\n",
      "regularization_factors, val_score: 1.000000:  70%|#######   | 14/20 [00:00<00:00, 15.63it/s]"
     ]
    },
    {
     "name": "stdout",
     "output_type": "stream",
     "text": [
      "Training until validation scores don't improve for 5 rounds\n",
      "Early stopping, best iteration is:\n",
      "[1]\tvalid_0's auc: 1\n"
     ]
    },
    {
     "name": "stderr",
     "output_type": "stream",
     "text": [
      "regularization_factors, val_score: 1.000000:  70%|#######   | 14/20 [00:00<00:00, 15.63it/s][I 2020-08-15 19:40:36,046] Trial 54 finished with value: 1.0 and parameters: {'lambda_l1': 0.0027577163384101423, 'lambda_l2': 0.5269863292396315}. Best is trial 40 with value: 1.0.\n",
      "regularization_factors, val_score: 1.000000:  75%|#######5  | 15/20 [00:00<00:00, 15.63it/s]"
     ]
    },
    {
     "name": "stdout",
     "output_type": "stream",
     "text": [
      "Training until validation scores don't improve for 5 rounds\n",
      "Early stopping, best iteration is:\n",
      "[1]\tvalid_0's auc: 1\n"
     ]
    },
    {
     "name": "stderr",
     "output_type": "stream",
     "text": [
      "regularization_factors, val_score: 1.000000:  80%|########  | 16/20 [00:01<00:00, 13.95it/s][I 2020-08-15 19:40:36,170] Trial 55 finished with value: 1.0 and parameters: {'lambda_l1': 9.691828899493723, 'lambda_l2': 0.0016157790458219599}. Best is trial 40 with value: 1.0.\n",
      "regularization_factors, val_score: 1.000000:  80%|########  | 16/20 [00:01<00:00, 13.95it/s]"
     ]
    },
    {
     "name": "stdout",
     "output_type": "stream",
     "text": [
      "Training until validation scores don't improve for 5 rounds\n",
      "Early stopping, best iteration is:\n",
      "[1]\tvalid_0's auc: 1\n"
     ]
    },
    {
     "name": "stderr",
     "output_type": "stream",
     "text": [
      "regularization_factors, val_score: 1.000000:  80%|########  | 16/20 [00:01<00:00, 13.95it/s][I 2020-08-15 19:40:36,289] Trial 56 finished with value: 1.0 and parameters: {'lambda_l1': 3.841921137265148e-07, 'lambda_l2': 7.651157813390038e-06}. Best is trial 40 with value: 1.0.\n",
      "regularization_factors, val_score: 1.000000:  85%|########5 | 17/20 [00:01<00:00, 13.95it/s]"
     ]
    },
    {
     "name": "stdout",
     "output_type": "stream",
     "text": [
      "Training until validation scores don't improve for 5 rounds\n",
      "Early stopping, best iteration is:\n",
      "[1]\tvalid_0's auc: 1\n"
     ]
    },
    {
     "name": "stderr",
     "output_type": "stream",
     "text": [
      "regularization_factors, val_score: 1.000000:  90%|######### | 18/20 [00:01<00:00, 11.78it/s][I 2020-08-15 19:40:36,401] Trial 57 finished with value: 1.0 and parameters: {'lambda_l1': 4.050737398311968e-05, 'lambda_l2': 2.184976715118033e-07}. Best is trial 40 with value: 1.0.\n",
      "regularization_factors, val_score: 1.000000:  90%|######### | 18/20 [00:01<00:00, 11.78it/s]"
     ]
    },
    {
     "name": "stdout",
     "output_type": "stream",
     "text": [
      "Training until validation scores don't improve for 5 rounds\n",
      "Early stopping, best iteration is:\n",
      "[1]\tvalid_0's auc: 1\n"
     ]
    },
    {
     "name": "stderr",
     "output_type": "stream",
     "text": [
      "regularization_factors, val_score: 1.000000:  90%|######### | 18/20 [00:01<00:00, 11.78it/s][I 2020-08-15 19:40:36,519] Trial 58 finished with value: 1.0 and parameters: {'lambda_l1': 0.3779535426187674, 'lambda_l2': 1.4491606959945699e-05}. Best is trial 40 with value: 1.0.\n",
      "regularization_factors, val_score: 1.000000:  95%|#########5| 19/20 [00:01<00:00, 11.78it/s]"
     ]
    },
    {
     "name": "stdout",
     "output_type": "stream",
     "text": [
      "Training until validation scores don't improve for 5 rounds\n",
      "Early stopping, best iteration is:\n",
      "[1]\tvalid_0's auc: 1\n"
     ]
    },
    {
     "name": "stderr",
     "output_type": "stream",
     "text": [
      "regularization_factors, val_score: 1.000000: 100%|##########| 20/20 [00:01<00:00, 10.74it/s][I 2020-08-15 19:40:36,623] Trial 59 finished with value: 1.0 and parameters: {'lambda_l1': 0.003051806456530015, 'lambda_l2': 0.0021029490515716673}. Best is trial 40 with value: 1.0.\n",
      "regularization_factors, val_score: 1.000000: 100%|##########| 20/20 [00:01<00:00, 13.28it/s]\n",
      "min_data_in_leaf, val_score: 1.000000:   0%|          | 0/5 [00:00<?, ?it/s]"
     ]
    },
    {
     "name": "stdout",
     "output_type": "stream",
     "text": [
      "Training until validation scores don't improve for 5 rounds\n",
      "Early stopping, best iteration is:\n",
      "[1]\tvalid_0's auc: 1\n"
     ]
    },
    {
     "name": "stderr",
     "output_type": "stream",
     "text": [
      "min_data_in_leaf, val_score: 1.000000:  20%|##        | 1/5 [00:00<00:00,  5.39it/s][I 2020-08-15 19:40:36,828] Trial 60 finished with value: 1.0 and parameters: {'min_child_samples': 100}. Best is trial 60 with value: 1.0.\n",
      "min_data_in_leaf, val_score: 1.000000:  20%|##        | 1/5 [00:00<00:00,  5.39it/s]"
     ]
    },
    {
     "name": "stdout",
     "output_type": "stream",
     "text": [
      "Training until validation scores don't improve for 5 rounds\n",
      "Early stopping, best iteration is:\n",
      "[1]\tvalid_0's auc: 1\n"
     ]
    },
    {
     "name": "stderr",
     "output_type": "stream",
     "text": [
      "min_data_in_leaf, val_score: 1.000000:  40%|####      | 2/5 [00:00<00:00,  3.89it/s][I 2020-08-15 19:40:37,249] Trial 61 finished with value: 1.0 and parameters: {'min_child_samples': 50}. Best is trial 60 with value: 1.0.\n",
      "min_data_in_leaf, val_score: 1.000000:  40%|####      | 2/5 [00:00<00:00,  3.89it/s]"
     ]
    },
    {
     "name": "stdout",
     "output_type": "stream",
     "text": [
      "Training until validation scores don't improve for 5 rounds\n",
      "Early stopping, best iteration is:\n",
      "[1]\tvalid_0's auc: 1\n"
     ]
    },
    {
     "name": "stderr",
     "output_type": "stream",
     "text": [
      "min_data_in_leaf, val_score: 1.000000:  60%|######    | 3/5 [00:00<00:00,  4.27it/s][I 2020-08-15 19:40:37,437] Trial 62 finished with value: 1.0 and parameters: {'min_child_samples': 5}. Best is trial 60 with value: 1.0.\n",
      "min_data_in_leaf, val_score: 1.000000:  60%|######    | 3/5 [00:00<00:00,  4.27it/s]"
     ]
    },
    {
     "name": "stdout",
     "output_type": "stream",
     "text": [
      "Training until validation scores don't improve for 5 rounds\n",
      "Early stopping, best iteration is:\n",
      "[1]\tvalid_0's auc: 1\n"
     ]
    },
    {
     "name": "stderr",
     "output_type": "stream",
     "text": [
      "min_data_in_leaf, val_score: 1.000000:  80%|########  | 4/5 [00:00<00:00,  4.42it/s][I 2020-08-15 19:40:37,638] Trial 63 finished with value: 1.0 and parameters: {'min_child_samples': 25}. Best is trial 60 with value: 1.0.\n",
      "min_data_in_leaf, val_score: 1.000000:  80%|########  | 4/5 [00:01<00:00,  4.42it/s]"
     ]
    },
    {
     "name": "stdout",
     "output_type": "stream",
     "text": [
      "Training until validation scores don't improve for 5 rounds\n",
      "Early stopping, best iteration is:\n",
      "[1]\tvalid_0's auc: 1\n"
     ]
    },
    {
     "name": "stderr",
     "output_type": "stream",
     "text": [
      "min_data_in_leaf, val_score: 1.000000:  80%|########  | 4/5 [00:01<00:00,  4.42it/s][I 2020-08-15 19:40:37,732] Trial 64 finished with value: 1.0 and parameters: {'min_child_samples': 10}. Best is trial 60 with value: 1.0.\n",
      "min_data_in_leaf, val_score: 1.000000: 100%|##########| 5/5 [00:01<00:00,  4.55it/s]\n"
     ]
    }
   ],
   "source": [
    "#  optunaを使用した自動パラメーターチューニング\n",
    "\n",
    "# パラメーターチューニング用のデータをセット\n",
    "lgb_train = lgb.Dataset(X_train, y_train, categorical_feature=categorical_features, free_raw_data=False)\n",
    "lgb_test = lgb.Dataset(X_test)\n",
    "\n",
    "# metric auc、objective binary 固定\n",
    "params = {\n",
    "    'metric' :'auc',\n",
    "    \"objective\": \"binary\",\n",
    "}\n",
    "\n",
    "# 複数のパラメータの条件で検証を行い最適の（もっとも評価が高くなる）パラメータをbest_paramsとし代入する。\n",
    "clf = optuna.integration.lightgbm.train(\n",
    "    params, lgb_train, \n",
    "    valid_sets=lgb_test, \n",
    "    verbose_eval=10, \n",
    "    early_stopping_rounds=5,\n",
    " )\n",
    "\n",
    "best_params = clf.params"
   ]
  },
  {
   "cell_type": "code",
   "execution_count": 14,
   "metadata": {},
   "outputs": [
    {
     "data": {
      "text/plain": [
       "{'metric': 'auc',\n",
       " 'objective': 'binary',\n",
       " 'lambda_l1': 0.0,\n",
       " 'lambda_l2': 0.0,\n",
       " 'num_leaves': 31,\n",
       " 'feature_fraction': 1.0,\n",
       " 'bagging_fraction': 1.0,\n",
       " 'bagging_freq': 0,\n",
       " 'min_child_samples': 20}"
      ]
     },
     "execution_count": 14,
     "metadata": {},
     "output_type": "execute_result"
    }
   ],
   "source": [
    "best_params"
   ]
  },
  {
   "cell_type": "markdown",
   "metadata": {},
   "source": [
    "# バリデーション"
   ]
  },
  {
   "cell_type": "code",
   "execution_count": 15,
   "metadata": {},
   "outputs": [],
   "source": [
    "# 関数を定義\n",
    "# 評価指標はROC\n",
    "def get_evaluate(y_test, predict):\n",
    "    fpr, tpr, thr_arr = metrics.roc_curve(y_test, predict)\n",
    "    accuracy = metrics.auc(fpr, tpr)\n",
    "    roc = metrics.roc_auc_score(y_test, predict)      \n",
    "    return roc"
   ]
  },
  {
   "cell_type": "code",
   "execution_count": 16,
   "metadata": {},
   "outputs": [
    {
     "name": "stdout",
     "output_type": "stream",
     "text": [
      "roc:0.8515933102434623\n",
      "roc:0.8514929590445838\n",
      "roc:0.8380754580380401\n",
      "roc:0.8451371809983944\n",
      "Kfold平均 roc:0.8465747270811201\n"
     ]
    },
    {
     "data": {
      "text/plain": [
       "array([0.00697243, 0.00103702, 0.06979217, ..., 0.03946388, 0.14313303,\n",
       "       0.01468361])"
      ]
     },
     "execution_count": 16,
     "metadata": {},
     "output_type": "execute_result"
    }
   ],
   "source": [
    "# KFoldクラスを用いて分割 \n",
    "cv = StratifiedKFold(n_splits=4, shuffle=True, random_state=0)\n",
    "roc_list = []\n",
    "\n",
    "for train_index, test_index in cv.split(X_train, y_train):\n",
    "    X_tr = X_train.iloc[train_index]\n",
    "    y_tr = y_train.iloc[train_index]\n",
    "    X_va = X_train.iloc[test_index]\n",
    "    y_va = y_train.iloc[test_index]\n",
    "    lgb_train = lgb.Dataset(X_tr, y_tr, categorical_feature=categorical_features)\n",
    "    lgb_test = lgb.Dataset(X_test)\n",
    "    \n",
    "#     パラメーターチューニングで作成したbest_paramsを利用する。\n",
    "    clf = lgb.train(best_params, lgb_train,100)\n",
    "    y_predict = clf.predict(X_va, num_iteration=clf.best_iteration)\n",
    "    roc= get_evaluate(y_va, y_predict)\n",
    "    print('roc:{}'.format(roc))\n",
    "    roc_list.append(roc)\n",
    "print('Kfold平均 roc:{}'.format(np.mean(roc_list)))\n",
    "y_predict"
   ]
  },
  {
   "cell_type": "markdown",
   "metadata": {},
   "source": [
    "# lightgbmによる予測モデル作成"
   ]
  },
  {
   "cell_type": "code",
   "execution_count": 17,
   "metadata": {},
   "outputs": [
    {
     "name": "stdout",
     "output_type": "stream",
     "text": [
      "Training until validation scores don't improve for 10 rounds\n",
      "[10]\ttraining's auc: 0.855182\tvalid_1's auc: 0.820093\n",
      "[20]\ttraining's auc: 0.882354\tvalid_1's auc: 0.837667\n",
      "[30]\ttraining's auc: 0.898999\tvalid_1's auc: 0.844043\n",
      "[40]\ttraining's auc: 0.912523\tvalid_1's auc: 0.846599\n",
      "[50]\ttraining's auc: 0.923456\tvalid_1's auc: 0.845881\n",
      "Early stopping, best iteration is:\n",
      "[42]\ttraining's auc: 0.914538\tvalid_1's auc: 0.847076\n"
     ]
    }
   ],
   "source": [
    "# train_test_splitによるデータ分割\n",
    "X_train, X_valid, y_train, y_valid = train_test_split(X_train, y_train, test_size=0.3, random_state=0, stratify=y_train)\n",
    "\n",
    "lgb_train = lgb.Dataset(X_train, y_train, categorical_feature=categorical_features)\n",
    "lgb_eval = lgb.Dataset(X_valid, y_valid, reference=lgb_train, categorical_feature=categorical_features)\n",
    "\n",
    "params = {\n",
    "    'metric' :'auc',\n",
    "    'objective': 'binary'\n",
    "}\n",
    "\n",
    "model = lgb.train(\n",
    "    best_params, lgb_train,\n",
    "    valid_sets=[lgb_train, lgb_eval],\n",
    "    verbose_eval=10,\n",
    "    num_boost_round=1000,\n",
    "    early_stopping_rounds=10\n",
    ")\n",
    "\n",
    "y_pred = model.predict(X_test, num_iteration=model.best_iteration)\n"
   ]
  },
  {
   "cell_type": "markdown",
   "metadata": {},
   "source": [
    "# 予測値を提出する"
   ]
  },
  {
   "cell_type": "code",
   "execution_count": 18,
   "metadata": {},
   "outputs": [],
   "source": [
    "submit = submit.drop(1, axis=1)\n",
    "submit['1'] = y_pred"
   ]
  },
  {
   "cell_type": "code",
   "execution_count": 19,
   "metadata": {},
   "outputs": [
    {
     "data": {
      "text/html": [
       "<div>\n",
       "<style scoped>\n",
       "    .dataframe tbody tr th:only-of-type {\n",
       "        vertical-align: middle;\n",
       "    }\n",
       "\n",
       "    .dataframe tbody tr th {\n",
       "        vertical-align: top;\n",
       "    }\n",
       "\n",
       "    .dataframe thead th {\n",
       "        text-align: right;\n",
       "    }\n",
       "</style>\n",
       "<table border=\"1\" class=\"dataframe\">\n",
       "  <thead>\n",
       "    <tr style=\"text-align: right;\">\n",
       "      <th></th>\n",
       "      <th>0</th>\n",
       "      <th>1</th>\n",
       "    </tr>\n",
       "  </thead>\n",
       "  <tbody>\n",
       "    <tr>\n",
       "      <th>0</th>\n",
       "      <td>0</td>\n",
       "      <td>0.742985</td>\n",
       "    </tr>\n",
       "    <tr>\n",
       "      <th>1</th>\n",
       "      <td>1</td>\n",
       "      <td>0.067566</td>\n",
       "    </tr>\n",
       "    <tr>\n",
       "      <th>2</th>\n",
       "      <td>2</td>\n",
       "      <td>0.028508</td>\n",
       "    </tr>\n",
       "    <tr>\n",
       "      <th>3</th>\n",
       "      <td>3</td>\n",
       "      <td>0.003566</td>\n",
       "    </tr>\n",
       "    <tr>\n",
       "      <th>4</th>\n",
       "      <td>4</td>\n",
       "      <td>0.058677</td>\n",
       "    </tr>\n",
       "    <tr>\n",
       "      <th>...</th>\n",
       "      <td>...</td>\n",
       "      <td>...</td>\n",
       "    </tr>\n",
       "    <tr>\n",
       "      <th>18045</th>\n",
       "      <td>18045</td>\n",
       "      <td>0.020304</td>\n",
       "    </tr>\n",
       "    <tr>\n",
       "      <th>18046</th>\n",
       "      <td>18046</td>\n",
       "      <td>0.006221</td>\n",
       "    </tr>\n",
       "    <tr>\n",
       "      <th>18047</th>\n",
       "      <td>18047</td>\n",
       "      <td>0.067945</td>\n",
       "    </tr>\n",
       "    <tr>\n",
       "      <th>18048</th>\n",
       "      <td>18048</td>\n",
       "      <td>0.007265</td>\n",
       "    </tr>\n",
       "    <tr>\n",
       "      <th>18049</th>\n",
       "      <td>18049</td>\n",
       "      <td>0.082272</td>\n",
       "    </tr>\n",
       "  </tbody>\n",
       "</table>\n",
       "<p>18050 rows × 2 columns</p>\n",
       "</div>"
      ],
      "text/plain": [
       "           0         1\n",
       "0          0  0.742985\n",
       "1          1  0.067566\n",
       "2          2  0.028508\n",
       "3          3  0.003566\n",
       "4          4  0.058677\n",
       "...      ...       ...\n",
       "18045  18045  0.020304\n",
       "18046  18046  0.006221\n",
       "18047  18047  0.067945\n",
       "18048  18048  0.007265\n",
       "18049  18049  0.082272\n",
       "\n",
       "[18050 rows x 2 columns]"
      ]
     },
     "execution_count": 19,
     "metadata": {},
     "output_type": "execute_result"
    }
   ],
   "source": [
    "submit"
   ]
  },
  {
   "cell_type": "code",
   "execution_count": null,
   "metadata": {},
   "outputs": [],
   "source": []
  }
 ],
 "metadata": {
  "kernelspec": {
   "display_name": "Python 3",
   "language": "python",
   "name": "python3"
  },
  "language_info": {
   "codemirror_mode": {
    "name": "ipython",
    "version": 3
   },
   "file_extension": ".py",
   "mimetype": "text/x-python",
   "name": "python",
   "nbconvert_exporter": "python",
   "pygments_lexer": "ipython3",
   "version": "3.7.7"
  }
 },
 "nbformat": 4,
 "nbformat_minor": 4
}
